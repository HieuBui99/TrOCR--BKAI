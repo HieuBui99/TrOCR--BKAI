{
 "cells": [
  {
   "cell_type": "code",
   "execution_count": 3,
   "id": "01c11c84-9799-432a-ac44-2d077fb9e50e",
   "metadata": {},
   "outputs": [],
   "source": [
    "from fastai.vision.all import *\n",
    "from dataloader import BeforeBatchTransform, CreateBatchTransform\n",
    "from vocab import Vocab\n",
    "from torch.utils.data import Dataset, DataLoader\n",
    "from tqdm.notebook import tqdm"
   ]
  },
  {
   "cell_type": "code",
   "execution_count": 33,
   "id": "e29ff3db-c48f-4655-8d06-c0fc916e39a2",
   "metadata": {},
   "outputs": [],
   "source": [
    "from transformers import BeitFeatureExtractor, BeitModel, TrOCRProcessor,\\\n",
    "                        TrOCRConfig, TrOCRForCausalLM, VisionEncoderDecoderModel\n",
    "from transformers import Seq2SeqTrainer, Seq2SeqTrainingArguments, default_data_collator\n",
    "from datasets import load_metric\n",
    "from transformers import AdamW\n",
    "import torch"
   ]
  },
  {
   "cell_type": "code",
   "execution_count": 6,
   "id": "ccf83b99-7185-4415-bad3-61d8d7d0fefe",
   "metadata": {},
   "outputs": [],
   "source": [
    "DATA_PATH = Path('/home/bui.hai.minh.hieu/hieubhm_workspace/competition/ocr')"
   ]
  },
  {
   "cell_type": "code",
   "execution_count": 7,
   "id": "b2a465c6-defb-4c4d-ba70-92aa9ff91128",
   "metadata": {},
   "outputs": [],
   "source": [
    "vocab = Vocab()"
   ]
  },
  {
   "cell_type": "code",
   "execution_count": 8,
   "id": "81b358ad-3065-44f0-9274-09b95fc85bd3",
   "metadata": {},
   "outputs": [],
   "source": [
    "with open(DATA_PATH / 'train.txt') as f:\n",
    "    lines = f.readlines()\n",
    "label_dict = dict()\n",
    "for line in lines:\n",
    "    parts = line.split('\\t')\n",
    "    fn = parts[0]\n",
    "    label = ''.join(parts[1:]).strip()\n",
    "    label_dict[fn] = label"
   ]
  },
  {
   "cell_type": "code",
   "execution_count": 9,
   "id": "e2cc2159-db25-48fd-9a08-200475aacb14",
   "metadata": {},
   "outputs": [],
   "source": [
    "# remove = []\n",
    "# for k, v in label_dict.items():\n",
    "#     if len(v) == 0:\n",
    "#         remove.append(k)\n",
    "#         print(k)"
   ]
  },
  {
   "cell_type": "code",
   "execution_count": 10,
   "id": "08a15278-4e9d-47df-93e1-040d05f7f7c3",
   "metadata": {},
   "outputs": [],
   "source": [
    "class BKAIDataset(Dataset):\n",
    "    def __init__(self, data_path, processor, vocab):\n",
    "        self.root_dir = data_path\n",
    "        self.processor = processor\n",
    "        self.vocab = vocab\n",
    "        self.fns = get_image_files(data_path)\n",
    "    def __len__(self):\n",
    "        return len(self.fns)\n",
    "\n",
    "    def __getitem__(self, idx):\n",
    "        # get file name + text \n",
    "        file_name = self.fns[idx]\n",
    "        text = label_dict[file_name.name]\n",
    "        # prepare image (resize + normalize)\n",
    "        image = Image.open(file_name).convert(\"RGB\")\n",
    "        pixel_values = self.processor(image, return_tensors=\"pt\").pixel_values\n",
    "        # add labels  by encoding the text\n",
    "        labels = self.vocab(text).input_ids\n",
    "        # make sure that PAD tokens are ignored by the loss function\n",
    "        labels = [label if label != self.vocab.pad else -100 for label in labels]\n",
    "\n",
    "        encoding = {\"pixel_values\": pixel_values.squeeze(), \"labels\": torch.tensor(labels)}\n",
    "        return encoding"
   ]
  },
  {
   "cell_type": "code",
   "execution_count": 14,
   "id": "f27de03a-58dd-4381-8ee8-570ac13e2c63",
   "metadata": {},
   "outputs": [],
   "source": [
    "# processor = TrOCRProcessor.from_pretrained(\"microsoft/trocr-base-handwritten\")\n",
    "processor = BeitFeatureExtractor.from_pretrained(\"microsoft/beit-base-patch16-224-pt22k\")\n",
    "\n",
    "train_dataset = BKAIDataset(DATA_PATH / 'train_img',\n",
    "                            processor, \n",
    "                            vocab)\n",
    "eval_dataset = BKAIDataset(DATA_PATH / 'test_img',\n",
    "                            processor, \n",
    "                            vocab)"
   ]
  },
  {
   "cell_type": "code",
   "execution_count": 26,
   "id": "6d63f175-2784-4c75-90d6-7f794372e701",
   "metadata": {},
   "outputs": [
    {
     "name": "stderr",
     "output_type": "stream",
     "text": [
      "Some weights of the model checkpoint at microsoft/beit-base-patch16-224-pt22k were not used when initializing BeitModel: ['lm_head.bias', 'lm_head.weight', 'layernorm.weight', 'layernorm.bias']\n",
      "- This IS expected if you are initializing BeitModel from the checkpoint of a model trained on another task or with another architecture (e.g. initializing a BertForSequenceClassification model from a BertForPreTraining model).\n",
      "- This IS NOT expected if you are initializing BeitModel from the checkpoint of a model that you expect to be exactly identical (initializing a BertForSequenceClassification model from a BertForSequenceClassification model).\n",
      "Some weights of BeitModel were not initialized from the model checkpoint at microsoft/beit-base-patch16-224-pt22k and are newly initialized: ['beit.pooler.layernorm.bias', 'beit.pooler.layernorm.weight']\n",
      "You should probably TRAIN this model on a down-stream task to be able to use it for predictions and inference.\n"
     ]
    }
   ],
   "source": [
    "cfg = TrOCRConfig(vocab_size=len(vocab))\n",
    "encoder = BeitModel.from_pretrained(\"microsoft/beit-base-patch16-224-pt22k\")\n",
    "decoder = TrOCRForCausalLM(TrOCRConfig())\n",
    "model = VisionEncoderDecoderModel(encoder=encoder, decoder=decoder)"
   ]
  },
  {
   "cell_type": "code",
   "execution_count": 28,
   "id": "9e8ff1c0-b4bf-482a-86a4-c74f0f93974f",
   "metadata": {},
   "outputs": [],
   "source": [
    "# set special tokens used for creating the decoder_input_ids from the labels\n",
    "model.config.decoder_start_token_id = vocab.go\n",
    "model.config.pad_token_id = vocab.pad\n",
    "# make sure vocab size is set correctly\n",
    "model.config.vocab_size = model.config.decoder.vocab_size\n",
    "\n",
    "# set beam search parameters\n",
    "model.config.eos_token_id = vocab.eos\n",
    "model.config.max_length = 64\n",
    "model.config.early_stopping = True\n",
    "model.config.no_repeat_ngram_size = 3\n",
    "model.config.length_penalty = 2.0\n",
    "model.config.num_beams = 4\n"
   ]
  },
  {
   "cell_type": "code",
   "execution_count": 31,
   "id": "304cb88f-bc0a-4508-964b-d81267165730",
   "metadata": {},
   "outputs": [],
   "source": [
    "# training_args = Seq2SeqTrainingArguments(\n",
    "#     predict_with_generate=True,\n",
    "#     evaluation_strategy=\"epoch\",\n",
    "#     per_device_train_batch_size=8,\n",
    "#     per_device_eval_batch_size=8,\n",
    "#     fp16=True, \n",
    "#     output_dir=\"./\",\n",
    "#     logging_steps=2,\n",
    "#     save_steps=1000,\n",
    "#     eval_steps=200,\n",
    "#     dataloader_num_workers=4,\n",
    "#     label_smoothing_factor=0.1,\n",
    "#     learning_rate=5e-5,\n",
    "# )\n"
   ]
  },
  {
   "cell_type": "code",
   "execution_count": 34,
   "id": "110f6e83-75a9-4e7d-b2b6-b62fe47e9184",
   "metadata": {},
   "outputs": [],
   "source": [
    "cer_metric = load_metric(\"cer\")"
   ]
  },
  {
   "cell_type": "code",
   "execution_count": 35,
   "id": "071d167c-f262-4cbd-bbbf-4050bd5055de",
   "metadata": {},
   "outputs": [],
   "source": [
    "def compute_metrics(pred):\n",
    "    labels_ids = pred.label_ids\n",
    "    pred_ids = pred.predictions\n",
    "\n",
    "    pred_str = vocab.batch_decode(pred_ids)\n",
    "    labels_ids[labels_ids == -100] = vocab.pad\n",
    "    label_str = processor.batch_decode(labels_ids)\n",
    "\n",
    "    cer = cer_metric.compute(predictions=pred_str, references=label_str)\n",
    "\n",
    "    return {\"cer\": cer}"
   ]
  },
  {
   "cell_type": "code",
   "execution_count": 37,
   "id": "07b25d74-8adf-47f6-82be-20ab3fc5fcf4",
   "metadata": {},
   "outputs": [
    {
     "name": "stderr",
     "output_type": "stream",
     "text": [
      "Using amp half precision backend\n"
     ]
    }
   ],
   "source": [
    "# trainer = Seq2SeqTrainer(\n",
    "#     model=model,\n",
    "#     tokenizer=vocab,\n",
    "#     args=training_args,\n",
    "#     compute_metrics=compute_metrics,\n",
    "#     train_dataset=train_dataset,\n",
    "#     eval_dataset=eval_dataset,\n",
    "#     data_collator=default_data_collator,\n",
    "# )\n"
   ]
  },
  {
   "cell_type": "code",
   "execution_count": null,
   "id": "b27d21a4-5fb4-4cc4-8dfa-703d2448e3f5",
   "metadata": {},
   "outputs": [],
   "source": [
    "# trainer.train()"
   ]
  },
  {
   "cell_type": "code",
   "execution_count": null,
   "id": "701d67d1",
   "metadata": {},
   "outputs": [],
   "source": [
    "device = device = torch.device(\"cuda:0\" if torch.cuda.is_available() else \"cpu\")"
   ]
  },
  {
   "cell_type": "code",
   "execution_count": null,
   "id": "36dcace9",
   "metadata": {},
   "outputs": [],
   "source": [
    "train_dataloader = DataLoader(train_dataset, batch_size=4, shuffle=True)\n",
    "eval_dataloader = DataLoader(eval_dataset, batch_size=4)"
   ]
  },
  {
   "cell_type": "code",
   "execution_count": null,
   "id": "057ab628",
   "metadata": {},
   "outputs": [],
   "source": [
    "model.to(device);"
   ]
  },
  {
   "cell_type": "code",
   "execution_count": null,
   "id": "2898f6ed",
   "metadata": {},
   "outputs": [],
   "source": [
    "optimizer = AdamW(model.parameters(), lr=5e-5)"
   ]
  },
  {
   "cell_type": "code",
   "execution_count": null,
   "id": "51e03f7d",
   "metadata": {},
   "outputs": [],
   "source": [
    "for epoch in range(10):  # tự sửa cho thích hợp nhé \n",
    "    model.train()\n",
    "    train_loss = 0.0\n",
    "    for batch in tqdm(train_dataloader):\n",
    "      # get the inputs\n",
    "        for k,v in batch.items():\n",
    "            batch[k] = v.to(device)\n",
    "\n",
    "      # forward + backward + optimize\n",
    "        outputs = model(**batch)\n",
    "        loss = outputs.loss\n",
    "        loss.backward()\n",
    "        optimizer.step()\n",
    "        optimizer.zero_grad()\n",
    "\n",
    "        train_loss += loss.item()\n",
    "\n",
    "    print(f\"Loss after epoch {epoch}:\", train_loss/len(train_dataloader))\n",
    "    \n",
    "   # evaluate\n",
    "    model.eval()\n",
    "    valid_cer = 0.0\n",
    "    with torch.no_grad():\n",
    "        for batch in tqdm(eval_dataloader):\n",
    "            outputs = model.generate(batch[\"pixel_values\"].to(device))\n",
    "            cer = compute_cer(pred_ids=outputs, label_ids=batch[\"labels\"])\n",
    "            valid_cer += cer \n",
    "\n",
    "    print(\"Validation CER:\", valid_cer / len(eval_dataloader))\n",
    "\n",
    "model.save_pretrained(\".\")"
   ]
  },
  {
   "cell_type": "code",
   "execution_count": null,
   "id": "ac72c002",
   "metadata": {},
   "outputs": [],
   "source": []
  },
  {
   "cell_type": "code",
   "execution_count": null,
   "id": "b6a69054",
   "metadata": {},
   "outputs": [],
   "source": []
  }
 ],
 "metadata": {
  "kernelspec": {
   "display_name": "hieubhm_env",
   "language": "python",
   "name": "hieubhm_env"
  },
  "language_info": {
   "codemirror_mode": {
    "name": "ipython",
    "version": 3
   },
   "file_extension": ".py",
   "mimetype": "text/x-python",
   "name": "python",
   "nbconvert_exporter": "python",
   "pygments_lexer": "ipython3",
   "version": "3.8.5"
  }
 },
 "nbformat": 4,
 "nbformat_minor": 5
}
